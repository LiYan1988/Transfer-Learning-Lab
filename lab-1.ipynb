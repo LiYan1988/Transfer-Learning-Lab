{
 "cells": [
  {
   "cell_type": "code",
   "execution_count": 3,
   "metadata": {},
   "outputs": [
    {
     "name": "stdout",
     "output_type": "stream",
     "text": [
      "inception-cifar10-bottleneck-data.zip\n",
      "inception-traffic-bottleneck-data.zip\n",
      "resnet-cifar10-bottleneck-data.zip\n",
      "resnet-traffic-bottleneck-data.zip\n",
      "vgg-cifar10-bottleneck-data.zip\n",
      "vgg-traffic-bottleneck-data.zip\n"
     ]
    }
   ],
   "source": [
    "import zipfile\n",
    "import os\n",
    "\n",
    "for file_name in os.listdir('from-git'):\n",
    "    print(file_name)"
   ]
  },
  {
   "cell_type": "code",
   "execution_count": 17,
   "metadata": {},
   "outputs": [],
   "source": [
    "def unzip(zip_path, unzip_path):\n",
    "    with zipfile.ZipFile(zip_path, 'r') as zfile:\n",
    "        zfile.extractall(unzip_path)"
   ]
  },
  {
   "cell_type": "code",
   "execution_count": 18,
   "metadata": {},
   "outputs": [],
   "source": [
    "for file_name in os.listdir('from-git'):\n",
    "    unzip(os.path.join('from-git', file_name), '.')"
   ]
  },
  {
   "cell_type": "code",
   "execution_count": 13,
   "metadata": {},
   "outputs": [
    {
     "data": {
      "text/plain": [
       "'C:\\\\Users\\\\home\\\\Udacity-CarND\\\\CarND-Transfer-Learning-Lab'"
      ]
     },
     "execution_count": 13,
     "metadata": {},
     "output_type": "execute_result"
    }
   ],
   "source": [
    "os.getcwd()"
   ]
  },
  {
   "cell_type": "code",
   "execution_count": 19,
   "metadata": {},
   "outputs": [
    {
     "data": {
      "text/plain": [
       "['.git',\n",
       " '.gitattributes',\n",
       " '.gitignore',\n",
       " '.ipynb_checkpoints',\n",
       " 'CODEOWNERS',\n",
       " 'create_bottlenecks.sh',\n",
       " 'feature_extraction.py',\n",
       " 'feature_extraction_solution.py',\n",
       " 'from-git',\n",
       " 'from-link',\n",
       " 'lab-1.ipynb',\n",
       " 'LICENSE',\n",
       " 'README.md',\n",
       " 'run_bottleneck.py',\n",
       " 'shrink.py']"
      ]
     },
     "execution_count": 19,
     "metadata": {},
     "output_type": "execute_result"
    }
   ],
   "source": [
    "os.listdir('.')"
   ]
  },
  {
   "cell_type": "code",
   "execution_count": 20,
   "metadata": {},
   "outputs": [],
   "source": [
    "for file_name in os.listdir('from-link'):\n",
    "    unzip(os.path.join('from-link', file_name), 'from-link')"
   ]
  },
  {
   "cell_type": "code",
   "execution_count": null,
   "metadata": {},
   "outputs": [],
   "source": []
  }
 ],
 "metadata": {
  "kernelspec": {
   "display_name": "Python 3",
   "language": "python",
   "name": "python3"
  },
  "language_info": {
   "codemirror_mode": {
    "name": "ipython",
    "version": 3
   },
   "file_extension": ".py",
   "mimetype": "text/x-python",
   "name": "python",
   "nbconvert_exporter": "python",
   "pygments_lexer": "ipython3",
   "version": "3.5.4"
  }
 },
 "nbformat": 4,
 "nbformat_minor": 2
}
