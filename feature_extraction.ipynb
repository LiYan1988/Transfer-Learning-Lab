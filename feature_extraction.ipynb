{
 "cells": [
  {
   "cell_type": "markdown",
   "metadata": {},
   "source": [
    "Load modules"
   ]
  },
  {
   "cell_type": "code",
   "execution_count": 1,
   "metadata": {},
   "outputs": [
    {
     "name": "stderr",
     "output_type": "stream",
     "text": [
      "Using TensorFlow backend.\n",
      "C:\\Users\\home\\Anaconda3\\envs\\carnd-term1\\lib\\site-packages\\h5py\\__init__.py:36: FutureWarning: Conversion of the second argument of issubdtype from `float` to `np.floating` is deprecated. In future, it will be treated as `np.float64 == np.dtype(float).type`.\n",
      "  from ._conv import register_converters as _register_converters\n"
     ]
    }
   ],
   "source": [
    "import pickle\n",
    "import tensorflow as tf\n",
    "from keras.models import Sequential\n",
    "from keras.layers.core import Dense, Activation, Flatten, Dropout\n",
    "from keras.layers.convolutional import Convolution2D\n",
    "import keras"
   ]
  },
  {
   "cell_type": "code",
   "execution_count": 2,
   "metadata": {},
   "outputs": [],
   "source": [
    "# flags = tf.app.flags\n",
    "# FLAGS = flags.FLAGS\n",
    "\n",
    "# # command line flags\n",
    "# flags.DEFINE_string('training_file', '', \"Bottleneck features training file (.p)\")\n",
    "# flags.DEFINE_string('validation_file', '', \"Bottleneck features validation file (.p)\")"
   ]
  },
  {
   "cell_type": "code",
   "execution_count": 3,
   "metadata": {},
   "outputs": [],
   "source": [
    "def load_bottleneck_data(training_file, validation_file):\n",
    "    \"\"\"\n",
    "    Utility function to load bottleneck features.\n",
    "\n",
    "    Arguments:\n",
    "        training_file - String\n",
    "        validation_file - String\n",
    "    \"\"\"\n",
    "    print(\"Training file\", training_file)\n",
    "    print(\"Validation file\", validation_file)\n",
    "\n",
    "    with open(training_file, 'rb') as f:\n",
    "        train_data = pickle.load(f)\n",
    "    with open(validation_file, 'rb') as f:\n",
    "        validation_data = pickle.load(f)\n",
    "\n",
    "    X_train = train_data['features']\n",
    "    y_train = train_data['labels']\n",
    "    X_val = validation_data['features']\n",
    "    y_val = validation_data['labels']\n",
    "\n",
    "    return X_train, y_train, X_val, y_val"
   ]
  },
  {
   "cell_type": "code",
   "execution_count": 48,
   "metadata": {},
   "outputs": [],
   "source": [
    "def main(data_set, training_file, validation_file, epochs, learning_rate):\n",
    "    # load bottleneck data\n",
    "    X_train, y_train, X_val, y_val = load_bottleneck_data(training_file, validation_file)\n",
    "\n",
    "    if data_set=='cifar10':\n",
    "        n_labels = 10\n",
    "    elif data_set=='traffic':\n",
    "        n_labels = 43\n",
    "    \n",
    "    x_train = X_train.reshape((X_train.shape[0], X_train.shape[-1]))\n",
    "    x_val = X_val.reshape((X_val.shape[0], X_val.shape[-1]))\n",
    "    print(x_train.shape)\n",
    "\n",
    "    model = Sequential()\n",
    "    model.add(Dense(n_labels, input_shape=(x_train.shape[1],), activation='softmax'))\n",
    "    adam = keras.optimizers.Adam(lr=learning_rate)\n",
    "    model.compile('adam', 'sparse_categorical_crossentropy', ['accuracy'])\n",
    "    history = model.fit(x_train, y_train, nb_epoch=epochs)\n",
    "    \n",
    "    scores = model.evaluate(x_val, y_val)\n",
    "    \n",
    "    return scores"
   ]
  },
  {
   "cell_type": "code",
   "execution_count": 49,
   "metadata": {},
   "outputs": [],
   "source": [
    "# training_file = 'from-link/vgg_traffic_100_bottleneck_features_train.p'\n",
    "# validation_file = 'from-link/vgg_traffic_bottleneck_features_validation.p'\n",
    "# # load bottleneck data\n",
    "# X_train, y_train, X_val, y_val = load_bottleneck_data(training_file, validation_file)\n",
    "\n",
    "# print(X_train.shape, y_train.shape)\n",
    "# print(X_val.shape, y_val.shape)\n",
    "\n",
    "# # TODO: define your model and hyperparams here\n",
    "# # make sure to adjust the number of classes based on\n",
    "# # the dataset\n",
    "# # 10 for cifar10\n",
    "# # 43 for traffic\n",
    "# n_labels_cifar10 = 10\n",
    "# n_labels_traffic = 43\n",
    "# # n_bottleneck = X_train.shape\n",
    "# x_train = X_train.reshape((X_train.shape[0], X_train.shape[-1]))\n",
    "# x_val = X_val.reshape((X_val.shape[0], X_val.shape[-1]))\n",
    "# print(x_train.shape, x_val.shape)\n",
    "\n",
    "# model = Sequential()\n",
    "# model.add(Dense(n_labels_traffic, input_shape=(x_train.shape[1],), activation='softmax'))\n",
    "# model.compile('adam', 'sparse_categorical_crossentropy', ['accuracy'])\n",
    "# history = model.fit(x_train, y_train, nb_epoch=10, validation_split=0.1)\n",
    "\n",
    "# # TODO: train your model here"
   ]
  },
  {
   "cell_type": "code",
   "execution_count": 57,
   "metadata": {},
   "outputs": [
    {
     "name": "stdout",
     "output_type": "stream",
     "text": [
      "Training file from-git/vgg_cifar10_bottleneck_features_train.p\n",
      "Validation file from-git/vgg_cifar10_bottleneck_features_validation.p\n",
      "(40000, 512)\n",
      "Epoch 1/20\n",
      "40000/40000 [==============================] - 1s - loss: 0.7947 - acc: 0.7449     \n",
      "Epoch 2/20\n",
      "40000/40000 [==============================] - 1s - loss: 0.4662 - acc: 0.8396     \n",
      "Epoch 3/20\n",
      "40000/40000 [==============================] - 1s - loss: 0.4289 - acc: 0.8533     \n",
      "Epoch 4/20\n",
      "40000/40000 [==============================] - 1s - loss: 0.4042 - acc: 0.8611     \n",
      "Epoch 5/20\n",
      "40000/40000 [==============================] - 1s - loss: 0.3966 - acc: 0.8634     \n",
      "Epoch 6/20\n",
      "40000/40000 [==============================] - 1s - loss: 0.3895 - acc: 0.8660     \n",
      "Epoch 7/20\n",
      "40000/40000 [==============================] - 1s - loss: 0.3854 - acc: 0.8655     \n",
      "Epoch 8/20\n",
      "40000/40000 [==============================] - 1s - loss: 0.3803 - acc: 0.8683     \n",
      "Epoch 9/20\n",
      "40000/40000 [==============================] - 1s - loss: 0.3823 - acc: 0.8677     \n",
      "Epoch 10/20\n",
      "40000/40000 [==============================] - 1s - loss: 0.3797 - acc: 0.8688     \n",
      "Epoch 11/20\n",
      "40000/40000 [==============================] - 1s - loss: 0.3789 - acc: 0.8693     \n",
      "Epoch 12/20\n",
      "40000/40000 [==============================] - 1s - loss: 0.3760 - acc: 0.8688     \n",
      "Epoch 13/20\n",
      "40000/40000 [==============================] - 1s - loss: 0.3755 - acc: 0.8695     \n",
      "Epoch 14/20\n",
      "40000/40000 [==============================] - 1s - loss: 0.3744 - acc: 0.8714     \n",
      "Epoch 15/20\n",
      "40000/40000 [==============================] - 1s - loss: 0.3766 - acc: 0.8699     \n",
      "Epoch 16/20\n",
      "40000/40000 [==============================] - 1s - loss: 0.3742 - acc: 0.8721     \n",
      "Epoch 17/20\n",
      "40000/40000 [==============================] - 1s - loss: 0.3772 - acc: 0.8704     \n",
      "Epoch 18/20\n",
      "40000/40000 [==============================] - 1s - loss: 0.3740 - acc: 0.8709     \n",
      "Epoch 19/20\n",
      "40000/40000 [==============================] - 1s - loss: 0.3717 - acc: 0.8714     \n",
      "Epoch 20/20\n",
      "40000/40000 [==============================] - 1s - loss: 0.3728 - acc: 0.8719     \n",
      " 9568/10000 [===========================>..] - ETA: 0s\n",
      "[0.4690354914188385, 0.8508]\n"
     ]
    }
   ],
   "source": [
    "folder_name = 'from-git'\n",
    "model_name = 'vgg'\n",
    "data_name = 'cifar10'\n",
    "training_file = '{folder_name}/{}_{}_bottleneck_features_train.p'.format(folder_name, model_name, data_name)\n",
    "validation_file = '{folder_name}/{}_{}_bottleneck_features_validation.p'.format(folder_name, model_name, data_name)\n",
    "\n",
    "scores = main(data_name, training_file, validation_file, 50, 0.0001)\n",
    "print()\n",
    "print(scores)"
   ]
  },
  {
   "cell_type": "code",
   "execution_count": 39,
   "metadata": {},
   "outputs": [
    {
     "data": {
      "text/plain": [
       "[0.8286885021919352, 0.7566272509697831]"
      ]
     },
     "execution_count": 39,
     "metadata": {},
     "output_type": "execute_result"
    }
   ],
   "source": [
    "scores"
   ]
  },
  {
   "cell_type": "code",
   "execution_count": null,
   "metadata": {},
   "outputs": [],
   "source": []
  }
 ],
 "metadata": {
  "kernelspec": {
   "display_name": "Python 3",
   "language": "python",
   "name": "python3"
  },
  "language_info": {
   "codemirror_mode": {
    "name": "ipython",
    "version": 3
   },
   "file_extension": ".py",
   "mimetype": "text/x-python",
   "name": "python",
   "nbconvert_exporter": "python",
   "pygments_lexer": "ipython3",
   "version": "3.5.4"
  }
 },
 "nbformat": 4,
 "nbformat_minor": 2
}
